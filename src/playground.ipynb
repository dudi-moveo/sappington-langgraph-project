{
 "cells": [
  {
   "cell_type": "code",
   "execution_count": 37,
   "id": "9e594c36",
   "metadata": {},
   "outputs": [],
   "source": [
    "import httpx\n",
    "import asyncio"
   ]
  },
  {
   "cell_type": "code",
   "execution_count": 38,
   "id": "f455f616",
   "metadata": {},
   "outputs": [],
   "source": [
    "async def stream_chat(client_id: str, message: str):\n",
    "    url = \"http://localhost:8000/chat/test-session\"   # Adjust port if needed\n",
    "\n",
    "    payload = {\n",
    "        \"client_id\": client_id,\n",
    "        \"message\": message\n",
    "    }\n",
    "\n",
    "    async with httpx.AsyncClient(timeout=None) as client:\n",
    "        async with client.stream(\"POST\", url, json=payload) as response:\n",
    "            if response.status_code != 200:\n",
    "                print(\"Error:\", response.status_code)\n",
    "                print(await response.aread())\n",
    "                return\n",
    "\n",
    "            print(\"Streaming reply:\\n\")\n",
    "            async for chunk in response.aiter_bytes():\n",
    "                print(chunk.decode(\"utf-8\"), end=\"\", flush=True)\n"
   ]
  },
  {
   "cell_type": "code",
   "execution_count": 51,
   "id": "a69a18dd",
   "metadata": {},
   "outputs": [],
   "source": [
    "client_id1 = \"dudi123\"\n",
    "message1 = \"my name is dudi my email is dudi@gmail.com. can you write that song?\"\n",
    "\n",
    "client_id2 = \"dudi124\"\n",
    "message2 = \"my name is dudi\"\n"
   ]
  },
  {
   "cell_type": "code",
   "execution_count": 52,
   "id": "9d0a6a11",
   "metadata": {},
   "outputs": [
    {
     "name": "stdout",
     "output_type": "stream",
     "text": [
      "Streaming reply:\n",
      "\n",
      "Thank you, Dudi! I’ve got your email as dudi@gmail.com.\n",
      "\n",
      "Here’s a fun song about Bob Dylan and Super Mario and their adventures together:\n",
      "\n",
      "---\n",
      "\n",
      "**\"Highway 61 to Mushroom Kingdom\"**\n",
      "\n",
      "*(Verse 1)*  \n",
      "Bob Dylan strummed his guitar, on a winding road one night  \n",
      "He met a plumber in red and blue, who jumped into his sight  \n",
      "Mario tipped his cap and said, “Hey Bob, come along with me!”  \n",
      "They hopped inside a green warp pipe, chasing wild mystery\n",
      "\n",
      "*(Chorus)*  \n",
      "They’re rolling down the highways, from Brooklyn to the stars  \n",
      "Singing with the Goombas, strumming old guitars  \n",
      "With peachy dreams and fire flowers, saving Mushroom Land  \n",
      "Bob and Mario, side by side, the world at their command\n",
      "\n",
      "*(Verse 2)*  \n",
      "Toad was tapping tambourine, Luigi danced around  \n",
      "Yoshi took a solo part, laying that funky sound  \n",
      "Bob shared stories, Mario shared mushrooms, both with open hearts  \n",
      "Traveling rounds and facing Bowsers, making world-class art\n",
      "\n",
      "*(Chorus)*  \n",
      "They’re rolling down the highways, from Brooklyn to the stars  \n",
      "Singing with the Koopas, strumming old guitars  \n",
      "With castles stormed and dragons charmed, it’s never quite the end  \n",
      "Bob Dylan and Super Mario—forever super friends\n",
      "\n",
      "*(Bridge)*  \n",
      "And when the curtain falls, and the quest is finally through  \n",
      "They’ll sit upon the castle walls, and play a song or two  \n",
      "Legends written, stories sung, beneath a pixel sky  \n",
      "Bob Dylan smiles, Mario jumps—adventures never die\n",
      "\n",
      "*(Final Chorus)*  \n",
      "They’re rolling down the highways, from Brooklyn to the stars  \n",
      "Jamming with the princess, strumming soft guitars  \n",
      "Through 8-bit lands and magic hands, the music never ends  \n",
      "Bob Dylan and Super Mario—the greatest super friends\n",
      "\n",
      "---\n",
      "\n",
      "If you want me to email the lyrics as well, just let me know! Would you like anything else added to the song?"
     ]
    }
   ],
   "source": [
    "await stream_chat(client_id=client_id1, message=message1)\n"
   ]
  },
  {
   "cell_type": "code",
   "execution_count": 23,
   "id": "a10738b1",
   "metadata": {},
   "outputs": [
    {
     "name": "stdout",
     "output_type": "stream",
     "text": [
      "Streaming reply:\n",
      "\n",
      "null"
     ]
    }
   ],
   "source": [
    "await stream_chat(client_id2, message2)"
   ]
  },
  {
   "cell_type": "code",
   "execution_count": null,
   "id": "3dd6c30d",
   "metadata": {},
   "outputs": [],
   "source": []
  }
 ],
 "metadata": {
  "kernelspec": {
   "display_name": ".venv",
   "language": "python",
   "name": "python3"
  },
  "language_info": {
   "codemirror_mode": {
    "name": "ipython",
    "version": 3
   },
   "file_extension": ".py",
   "mimetype": "text/x-python",
   "name": "python",
   "nbconvert_exporter": "python",
   "pygments_lexer": "ipython3",
   "version": "3.11.13"
  }
 },
 "nbformat": 4,
 "nbformat_minor": 5
}
