{
 "cells": [
  {
   "cell_type": "code",
   "execution_count": 3,
   "id": "9e594c36",
   "metadata": {},
   "outputs": [],
   "source": [
    "import httpx\n",
    "import asyncio"
   ]
  },
  {
   "cell_type": "code",
   "execution_count": 17,
   "id": "f455f616",
   "metadata": {},
   "outputs": [],
   "source": [
    "async def stream_chat(client_id: str, message: str):\n",
    "    url = \"http://localhost:8000/chat/test-session\"   # Adjust port if needed\n",
    "\n",
    "    payload = {\n",
    "        \"client_id\": client_id,\n",
    "        \"message\": message\n",
    "    }\n",
    "\n",
    "    async with httpx.AsyncClient(timeout=None) as client:\n",
    "        async with client.stream(\"POST\", url, json=payload) as response:\n",
    "            if response.status_code != 200:\n",
    "                print(\"Error:\", response.status_code)\n",
    "                print(await response.aread())\n",
    "                return\n",
    "\n",
    "            print(\"Streaming reply:\\n\")\n",
    "            async for chunk in response.aiter_bytes():\n",
    "                print(chunk.decode(\"utf-8\"), end=\"\", flush=True)\n"
   ]
  },
  {
   "cell_type": "code",
   "execution_count": 33,
   "id": "a69a18dd",
   "metadata": {},
   "outputs": [],
   "source": [
    "client_id1 = \"dudi123\"\n",
    "message1 = \"my name is moshe\"\n",
    "\n",
    "client_id2 = \"dudi124\"\n",
    "message2 = \"my name is dudi\"\n"
   ]
  },
  {
   "cell_type": "code",
   "execution_count": 34,
   "id": "9d0a6a11",
   "metadata": {},
   "outputs": [
    {
     "name": "stdout",
     "output_type": "stream",
     "text": [
      "Error: 500\n",
      "b'Internal Server Error'\n"
     ]
    }
   ],
   "source": [
    "await stream_chat(client_id=client_id1, message=message1)\n"
   ]
  },
  {
   "cell_type": "code",
   "execution_count": 23,
   "id": "a10738b1",
   "metadata": {},
   "outputs": [
    {
     "name": "stdout",
     "output_type": "stream",
     "text": [
      "Streaming reply:\n",
      "\n",
      "null"
     ]
    }
   ],
   "source": [
    "await stream_chat(client_id2, message2)"
   ]
  },
  {
   "cell_type": "code",
   "execution_count": null,
   "id": "3dd6c30d",
   "metadata": {},
   "outputs": [],
   "source": []
  }
 ],
 "metadata": {
  "kernelspec": {
   "display_name": ".venv",
   "language": "python",
   "name": "python3"
  },
  "language_info": {
   "codemirror_mode": {
    "name": "ipython",
    "version": 3
   },
   "file_extension": ".py",
   "mimetype": "text/x-python",
   "name": "python",
   "nbconvert_exporter": "python",
   "pygments_lexer": "ipython3",
   "version": "3.11.13"
  }
 },
 "nbformat": 4,
 "nbformat_minor": 5
}
